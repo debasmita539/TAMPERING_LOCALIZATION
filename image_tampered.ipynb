{
 "cells": [
  {
   "cell_type": "code",
   "execution_count": null,
   "metadata": {},
   "outputs": [],
   "source": []
  },
  {
   "cell_type": "markdown",
   "metadata": {},
   "source": [
    "<h1>Tampering Image Detection And Localization</h1>"
   ]
  },
  {
   "cell_type": "code",
   "execution_count": 1,
   "metadata": {},
   "outputs": [
    {
     "name": "stdout",
     "output_type": "stream",
     "text": [
      "[INFO] Tampering detected!\n"
     ]
    }
   ],
   "source": [
    "import cv2\n",
    "import numpy as np\n",
    "from skimage.metrics import structural_similarity as ssim\n",
    "\n",
    "class TamperDetection:\n",
    "    def __init__(self, input_size=500, show_result=True, similarity_thresh=0.6, multichannel=True):\n",
    "        self.input_size = input_size\n",
    "        self.similarity_thresh = similarity_thresh\n",
    "        self.multichannel = multichannel\n",
    "        self.show_result = show_result\n",
    "\n",
    "    def detect_tampering(self, real_image_path, fake_image_path):\n",
    "        # Load images\n",
    "        real_image = cv2.imread(real_image_path)\n",
    "        fake_image = cv2.imread(fake_image_path)\n",
    "\n",
    "        # Resize images\n",
    "        real_image_resized = cv2.resize(real_image, (self.input_size, self.input_size))\n",
    "        fake_image_resized = cv2.resize(fake_image, (self.input_size, self.input_size))\n",
    "\n",
    "        # Convert to grayscale for SSIM calculation\n",
    "        real_gray = cv2.cvtColor(real_image_resized, cv2.COLOR_BGR2GRAY)\n",
    "        fake_gray = cv2.cvtColor(fake_image_resized, cv2.COLOR_BGR2GRAY)\n",
    "\n",
    "        # Compute SSIM and difference map\n",
    "        score, diff = ssim(real_gray, fake_gray, full=True)\n",
    "        diff = (diff * 255).astype(\"uint8\")\n",
    "\n",
    "        # Threshold the difference map\n",
    "        _, thresh = cv2.threshold(diff, 50, 255, cv2.THRESH_BINARY)\n",
    "\n",
    "        # Find contours of tampered regions\n",
    "        contours, _ = cv2.findContours(thresh, cv2.RETR_EXTERNAL, cv2.CHAIN_APPROX_SIMPLE)\n",
    "        tampered_detected = False\n",
    "\n",
    "        for contour in contours:\n",
    "            if cv2.contourArea(contour) > 50:  \n",
    "                tampered_detected = True\n",
    "                x, y, w, h = cv2.boundingRect(contour)\n",
    "                cv2.rectangle(fake_image_resized, (x, y), (x + w, y + h), (0, 0, 255), 2)\n",
    "\n",
    "        # Show results\n",
    "        if self.show_result:\n",
    "            status = \"TAMPERING DETECTED\" if tampered_detected else \"NO TAMPERING DETECTED\"\n",
    "            color = (0, 0, 255) if tampered_detected else (0, 255, 0)\n",
    "            cv2.putText(fake_image_resized, status, (10, 30), cv2.FONT_HERSHEY_SIMPLEX, 1, color, 2)\n",
    "\n",
    "            cv2.imshow(\"Tampered Image\", fake_image_resized)\n",
    "            cv2.imshow(\"Difference Map\", diff)\n",
    "            cv2.imshow(\"Threshold Map\", thresh)\n",
    "            cv2.waitKey(0)\n",
    "            cv2.destroyAllWindows()\n",
    "\n",
    "        return tampered_detected\n",
    "\n",
    "\n",
    "# Input image\n",
    "real_image_path = r\"D:\\MINOR_PROJECT\\monkey_au.jpg\"\n",
    "fake_image_path = r\"D:\\MINOR_PROJECT\\tamper image\\TP\\Tp_S_NRN_S_N_ani00068_ani00068_00188.tif\"\n",
    "detector = TamperDetection(show_result=True)\n",
    "\n",
    "# Process the images\n",
    "tampered = detector.detect_tampering(real_image_path, fake_image_path)\n",
    "\n",
    "if tampered:\n",
    "    print(\"[INFO] Tampering detected!\")\n",
    "else:\n",
    "    print(\"[INFO] No tampering detected.\")\n"
   ]
  },
  {
   "cell_type": "code",
   "execution_count": null,
   "metadata": {},
   "outputs": [],
   "source": []
  },
  {
   "cell_type": "code",
   "execution_count": null,
   "metadata": {},
   "outputs": [],
   "source": []
  },
  {
   "cell_type": "code",
   "execution_count": null,
   "metadata": {},
   "outputs": [],
   "source": []
  },
  {
   "cell_type": "code",
   "execution_count": null,
   "metadata": {},
   "outputs": [],
   "source": []
  },
  {
   "cell_type": "markdown",
   "metadata": {},
   "source": [
    "<h1>Multi-Scale Analysis,Edge Detection,Robust Thresholding,Improved Visualization(SLRID)</h1>"
   ]
  },
  {
   "cell_type": "code",
   "execution_count": 1,
   "metadata": {},
   "outputs": [
    {
     "name": "stdout",
     "output_type": "stream",
     "text": [
      "[INFO] Tampering detected!\n"
     ]
    }
   ],
   "source": [
    "import cv2\n",
    "import numpy as np\n",
    "from skimage.metrics import structural_similarity as ssim\n",
    "\n",
    "class TamperDetection:\n",
    "    def __init__(self, input_size=500, show_result=True, similarity_thresh=0.6, multichannel=True):\n",
    "        self.input_size = input_size\n",
    "        self.similarity_thresh = similarity_thresh\n",
    "        self.multichannel = multichannel\n",
    "        self.show_result = show_result\n",
    "\n",
    "    def detect_tampering(self, real_image_path, fake_image_path):\n",
    "\n",
    "        real_image = cv2.imread(real_image_path)\n",
    "        fake_image = cv2.imread(fake_image_path)\n",
    "\n",
    "        # Resize images\n",
    "        real_image_resized = cv2.resize(real_image, (self.input_size, self.input_size))\n",
    "        fake_image_resized = cv2.resize(fake_image, (self.input_size, self.input_size))\n",
    "\n",
    "        # Convert to grayscale for SSIM calculation\n",
    "        real_gray = cv2.cvtColor(real_image_resized, cv2.COLOR_BGR2GRAY)\n",
    "        fake_gray = cv2.cvtColor(fake_image_resized, cv2.COLOR_BGR2GRAY)\n",
    "\n",
    "        # Compute SSIM and difference map\n",
    "        score, diff = ssim(real_gray, fake_gray, full=True)\n",
    "        diff = (diff * 255).astype(\"uint8\")\n",
    "\n",
    "        # Apply edge detection to enhance the tampered regions\n",
    "        edges = cv2.Canny(diff, threshold1=50, threshold2=150)\n",
    "\n",
    "        # Combine the edge map with the SSIM difference map\n",
    "        combined_map = cv2.addWeighted(diff, 0.7, edges, 0.3, 0)\n",
    "\n",
    "        # Dynamic thresholding based on SSIM score\n",
    "        threshold_value = int(255 * (1 - self.similarity_thresh))\n",
    "        _, thresh = cv2.threshold(combined_map, threshold_value, 255, cv2.THRESH_BINARY)\n",
    "\n",
    "        # Find contours of tampered regions\n",
    "        contours, _ = cv2.findContours(thresh, cv2.RETR_EXTERNAL, cv2.CHAIN_APPROX_SIMPLE)\n",
    "        tampered_detected = False\n",
    "\n",
    "        for contour in contours:\n",
    "            if cv2.contourArea(contour) > 50:  \n",
    "                tampered_detected = True\n",
    "                x, y, w, h = cv2.boundingRect(contour)\n",
    "                cv2.rectangle(fake_image_resized, (x, y), (x + w, y + h), (0, 0, 255), 2)\n",
    "\n",
    "        # Show results if required\n",
    "        if self.show_result:\n",
    "            status = \"TAMPERING DETECTED\" if tampered_detected else \"NO TAMPERING DETECTED\"\n",
    "            color = (0, 0, 255) if tampered_detected else (0, 255, 0)\n",
    "            cv2.putText(fake_image_resized, status, (10, 30), cv2.FONT_HERSHEY_SIMPLEX, 1, color, 2)\n",
    "\n",
    "            cv2.imshow(\"Tampered Image\", fake_image_resized)\n",
    "            cv2.imshow(\"Difference Map\", diff)\n",
    "            cv2.imshow(\"Edge-Enhanced Difference Map\", combined_map)\n",
    "            cv2.imshow(\"Threshold Map\", thresh)\n",
    "            cv2.waitKey(0)\n",
    "            cv2.destroyAllWindows()\n",
    "\n",
    "        return tampered_detected\n",
    "\n",
    "\n",
    "# Input image paths\n",
    "real_image_path = r\"tamper image\\Au\\Au_txt_00070.jpg\"\n",
    "fake_image_path = r\"tamper image\\TP\\Tp_S_NRN_S_N_txt00070_txt00070_11315.jpg\"\n",
    "\n",
    "# Create an instance of the TamperDetection class\n",
    "detector = TamperDetection(show_result=True)\n",
    "\n",
    "# Process the images\n",
    "tampered = detector.detect_tampering(real_image_path, fake_image_path)\n",
    "\n",
    "if tampered:\n",
    "    print(\"[INFO] Tampering detected!\")\n",
    "else:\n",
    "    print(\"[INFO] No tampering detected.\")\n"
   ]
  },
  {
   "cell_type": "markdown",
   "metadata": {},
   "source": [
    "<h1>AMPERING DETECTION AND LOCALIZATION CALCULATE ACCURACY</h1>"
   ]
  },
  {
   "cell_type": "code",
   "execution_count": null,
   "metadata": {},
   "outputs": [],
   "source": []
  }
 ],
 "metadata": {
  "kernelspec": {
   "display_name": "Python 3",
   "language": "python",
   "name": "python3"
  },
  "language_info": {
   "codemirror_mode": {
    "name": "ipython",
    "version": 3
   },
   "file_extension": ".py",
   "mimetype": "text/x-python",
   "name": "python",
   "nbconvert_exporter": "python",
   "pygments_lexer": "ipython3",
   "version": "3.12.6"
  }
 },
 "nbformat": 4,
 "nbformat_minor": 2
}
